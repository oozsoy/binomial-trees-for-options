{
 "cells": [
  {
   "cell_type": "code",
   "execution_count": 1,
   "id": "361d8aa3",
   "metadata": {},
   "outputs": [],
   "source": [
    "import numpy as np\n",
    "\n",
    "import scipy.stats as stats\n",
    "import matplotlib.pyplot as plt\n",
    "\n",
    "import time\n",
    "\n",
    "#For inline plotting \n",
    "%matplotlib inline                 \n",
    "%config InlineBackend.figure_format = 'svg'\n",
    "\n",
    "\n",
    "plt.style.use(\"seaborn-v0_8-white\")"
   ]
  },
  {
   "cell_type": "markdown",
   "id": "43661276",
   "metadata": {},
   "source": [
    "### **American Option Pricing with Binomial Trees**\n",
    "-------\n",
    "\n",
    "In contrast with the European vanilla options, American options give the holder the right to exercise it at any time before expiry $t \\leq T$ if it is advantageous to do so. \n",
    "\n",
    "**Remark:** With the assumption that interest rates are positive, it is *never optimal to exercise an American Call Option -on a non-dividend paying underlying- before the expiry*. This is because at the time of exercise we pay $K$ amount to buy the stock, which could be otherwise invested in a money market account with interest. Furthermore, since the underlying does not pay dividends, stock price won't have a chance to drop in value during the contract, rendering early exercise choice of American Options not advantageous over the European Vanilla Options. \n",
    "\n",
    "In summary, there is no incentive to exercise early an American Call Option and so there is no added value from the American feature. Since the right to early exercise is not executed in the optimal strategy, we have \n",
    "\n",
    "$$\n",
    "\\textrm{American Calls} = \\textrm{European Calls} \\quad\\quad\\quad \\textrm{for non-dividend stocks}\n",
    "$$\n",
    "\n",
    "provided that interest rates are positive, $r > 0$. In case the latter is negative (and the underlying pays dividends), one can find scenarios making the early exercise property appealing. \n",
    "\n",
    "In what follows, we will therefore focus on the pricing of American Put Options using Binomial tree method.\n",
    "\n",
    "- For American Puts, we can directly see the benefit of early exercise as it guarantees us to receive $K$ amount from the sell of the stock now, from which we can earn interest over time as long as $r > 0$. Here, it does not matter if the underlying pays dividend or not, in fact dividend payments are acting towards our advantage by reducing the price of the stock. \n",
    "\n",
    "- Therefore, in contrast with the European counterpart, we need to take into account the decision of “Should I exercise the option now, or is it better to hold?” at each node in the binomial tree. Such a decision can be said to influence the value of the option in nodes that precedes it, when we use a backward induction process along the binomial tree. \n",
    "\n",
    "For this purpose, we consider a binomial tree that is discrete time, recombining model of the underlying stock price;\n",
    "\n",
    "- $S_0$: initial stock price\n",
    "- $K$: strike price\n",
    "- $u$: up factor\n",
    "- $d = 1/u$: down factor ($1/u$ to ensure recombination)\n",
    "- $r$: risk-free rate\n",
    "- $\\Delta t$: unit time step on the tree\n",
    "- $N$: number of time steps \n",
    "\n",
    "Using the risk-neutrality condition at a unit binomial tree, we can also obtain the risk-neutral probability, \n",
    "\n",
    "$$\n",
    "\\mathbb{E}[S_{t + \\Delta t}] = S_t \\, \\mathrm{e}^{r \\Delta t}\\quad\\quad \\longrightarrow \\quad\\quad q = \\frac{\\mathrm{e}^{r \\Delta t} - d}{u - d}\n",
    "$$\n",
    "\n",
    "\n"
   ]
  },
  {
   "cell_type": "markdown",
   "id": "dfcdaf21",
   "metadata": {},
   "source": [
    "### Binomial Tree Model\n",
    "-----\n",
    "\n",
    "We label each node in the binomial tree via $(i,j)$: \n",
    "\n",
    "- $i$: time step from $0$ to $N$\n",
    "- $j$: number of up moves from $0$ to $i$\n",
    "\n",
    "The stock price at any node in the tree is then described by \n",
    "\n",
    "$$\n",
    "S^{\\,j}_{\\,\\,i} = S_0\\, u^{j}\\, d^{\\,i-j} \n",
    "$$\n",
    "\n",
    "For a given depth of the tree specified by the number of time steps $N$, we can then compute the option value at the expiry using the stock value at that time,\n",
    "\n",
    "$$\n",
    "C^{\\, j}_{\\,\\,N} = \\textrm{max}(0, K - S^{\\,j}_{\\,\\,N})\n",
    "$$\n",
    "\n",
    "which corresponds to would have been put option value without early exercise. Therefore, for a given $j$ node at the final time step, these values is equivalent to the European put option values for possible choices of stock price values. If we wanted to know the price of a European option on this tree, we would simply trace back these values back in time through discounting the expected values that come out from each node, as implied by the risk-neutral framework. However, now we have the extra power to decide whether we should exercise the option prior to expiry. The natural criterion for this decision depends on whether immediate exercise value of the option is greater than the continuation value (e.g its discounted expected future value). If yes, we treat the value of the option as its instantaneous value otherwise its value is equal to the standard European value. \n",
    "\n",
    "Therefore, for the rest of the time nodes $i = N-1,\\dots 0$, we compute the value of the option as the maximum between the intrinsic value and continuation value: \n",
    "\n",
    "$$\n",
    "C^{\\, j}_{\\,\\,i} = \\textrm{max}\\left(K - S^{\\,j}_{\\,\\,i},\\, \\mathrm{e}^{-r \\Delta t} \\left[q\\, C^{\\, j + 1}_{\\,\\,\\,i + 1} + (1-q)\\, C^{\\, j}_{\\,\\,i + 1} \\right]\\right)\n",
    "$$\n",
    "\n"
   ]
  },
  {
   "cell_type": "code",
   "execution_count": 5,
   "id": "dfc9134c",
   "metadata": {},
   "outputs": [],
   "source": [
    "S_in = 100 # initial stock price\n",
    "K = 100 # strike price\n",
    "T = 1 # maturity in years\n",
    "r = 0.06 # risk-free rate\n",
    "\n",
    "# up jump move factor and Number of time steps\n",
    "u = 1.1\n",
    "N = 3"
   ]
  },
  {
   "cell_type": "code",
   "execution_count": 8,
   "id": "79873124",
   "metadata": {},
   "outputs": [],
   "source": [
    "# import binomial tree model of the underlying\n",
    "\n",
    "from models import binomial_tree_model\n",
    "\n",
    "binom_model = binomial_tree_model(u, r, T, N)"
   ]
  },
  {
   "cell_type": "code",
   "execution_count": 9,
   "id": "0f01b587",
   "metadata": {},
   "outputs": [
    {
     "name": "stdout",
     "output_type": "stream",
     "text": [
      "American put price: 4.65459 $\n"
     ]
    }
   ],
   "source": [
    "# import american_option class\n",
    "\n",
    "from options import american_option\n",
    "\n",
    "us_option = american_option(binom_model, S_in, K, T, is_call=False)\n",
    "us_price = us_option.price()\n",
    "print(f\"American put price: {us_price:.5f} $\")"
   ]
  },
  {
   "cell_type": "markdown",
   "id": "c879e2fd",
   "metadata": {},
   "source": [
    "We can simply downgrade our `american_option` class to cover the standard European call options which I implement in `european_option` class"
   ]
  },
  {
   "cell_type": "code",
   "execution_count": 10,
   "id": "aec47a12",
   "metadata": {},
   "outputs": [
    {
     "name": "stdout",
     "output_type": "stream",
     "text": [
      "European call price: 10.14574 $\n"
     ]
    }
   ],
   "source": [
    "from options import european_option\n",
    "\n",
    "eu_option = european_option(binom_model, S_in, K, T, is_call=True)\n",
    "eu_price = eu_option.price()\n",
    "print(f\"European call price: {eu_price:.5f} $\")"
   ]
  },
  {
   "cell_type": "markdown",
   "id": "a8c7ab12",
   "metadata": {},
   "source": [
    "### **Pricing Barrier Options with Binomial Tree**\n",
    "------\n",
    "\n",
    "Barrier options differ from their European and American counterpart in that they are *path dependent*. \n",
    "\n",
    "In particular, Barrier options are like standard options, but with an added condition:\n",
    "\n",
    "- The option only becomes active (knock-in) or void (knock-out) if the underlying asset touches or breaches a barrier level during its life.\n",
    "\n",
    "Most such types of options are European style, but their American version does also exist. Here we focus on the former types which can be classified as follows\n",
    "\n",
    "\n",
    "\n",
    "| **Option Type**  | **Barrier Condition**                                                              | **Payoff at Maturity**                                 |\n",
    "| ---------------- | ---------------------------------------------------------------------------------- | ------------------------------------------------------ |\n",
    "| **Up-and-in**    | Option **only becomes active** if the asset price **ever rises above** the barrier | If barrier breached: standard European payoff; else: 0 |\n",
    "| **Up-and-out**   | Option is **knocked out** (voided) if price **ever rises above** the barrier       | If barrier not breached: standard payoff; else: 0      |\n",
    "| **Down-and-in**  | Option **only becomes active** if price **ever falls below** the barrier           | If barrier breached: standard European payoff; else: 0 |\n",
    "| **Down-and-out** | Option is **knocked out** if price **ever falls below** the barrier                | If barrier not breached: standard payoff; else: 0      |\n",
    "\n"
   ]
  },
  {
   "cell_type": "markdown",
   "id": "49d366b2",
   "metadata": {},
   "source": [
    "For example;\n",
    "\n",
    "Let’s say you have a European call with strike $K = 100$ and the final stock price is $S_T = 110$:\n",
    "\n",
    "- Up-and-in, barrier $H = 120$ ---> if $S_t$ never hits $120$, pay-off is $0$.\n",
    "\n",
    "- Up-and-out, barrier $H = 120$ ---> if $S_t$ never hits $120$, pay-off is $110 - 100 = 10$.\n",
    "\n",
    "- Down-and-in, barrier $H= 80$ ---> if $S_t$ fell below $80$ at some point, pay-off is $110 - 100 = 10$.\n",
    "\n",
    "- Down-and-out, barrier $ H= 80$ ---> if $S_t$ never falls below $80$ , pay-off is $110 - 100 = 10$.\n",
    "\n",
    "These examples correspond to a call type barrier options but similar arguments also apply to put types.\n",
    "\n",
    "\n",
    "Due to path dependence, we therefore need to check/track the entire path of the barrier options $S_t \\in (0,T]$ whether the barrier $H$ is ever breached. On a binomial tree setup, we can for example perform a discrete monitoring at each time step for this purpose.   \n"
   ]
  },
  {
   "cell_type": "markdown",
   "id": "4c42ba72",
   "metadata": {},
   "source": [
    "We can thus mathematically describe the pay-offs contingent on the extra conditions dependening on the nature of the contract. For example, for an Put option we have the following pay-offs; \n",
    "\n",
    "\n",
    "| **Option Type**  | **Payoff at Maturity**                                 |\n",
    "| ---------------- | ------------------------------------------------------ | \n",
    "| **Up-and-in**    | $(K - S)^{+} \\,\\, \\mathbb{I}(\\textrm{max}_{\\forall t} S_t \\geq H)$ |\n",
    "| **Up-and-out**   | $(K - S)^{+} \\,\\, \\mathbb{I}(\\textrm{max}_{\\forall t} S_t < H)$     |\n",
    "| **Down-and-in**  | $(K - S)^{+} \\,\\, \\mathbb{I}(\\textrm{min}_{\\forall t} S_t \\leq H)$  |\n",
    "| **Down-and-out** | $(K - S)^{+} \\,\\, \\mathbb{I}(\\textrm{min}_{\\forall t} S_t > H)$      |\n",
    "\n",
    "using which we can guess the call equivalents. As a side note, the table above actually suggests a nice relation \n",
    "\n",
    "$$\n",
    "\\textrm{Vanilla option} = \\textrm{Knock-in option} + \\textrm{Knock-out option} \n",
    "$$\n",
    "\n",
    "The condition above actually suggest something obvious: the European vanilla option will be always worth at least as much as a barrier option or more. This is obvious as the barrier option contract has an additional constraint that its European counterpart does not have. "
   ]
  },
  {
   "cell_type": "code",
   "execution_count": 15,
   "id": "1ec7a44f",
   "metadata": {},
   "outputs": [
    {
     "name": "stdout",
     "output_type": "stream",
     "text": [
      "Barrier up-and-out call price: 4.00027 $\n"
     ]
    }
   ],
   "source": [
    "from options import barrier_option\n",
    "\n",
    "# extra contract barrier conditions \n",
    "H = 125\n",
    "option_type = 'call'\n",
    "barrier_type = 'up-and-out'\n",
    "\n",
    "b_option = barrier_option(binom_model, S_in, K, H, T, option_type=option_type, barrier_type = barrier_type)\n",
    "b_price = b_option.price()\n",
    "print(f\"Barrier {barrier_type} {option_type} price: {b_price:.5f} $\")"
   ]
  }
 ],
 "metadata": {
  "kernelspec": {
   "display_name": "base",
   "language": "python",
   "name": "python3"
  },
  "language_info": {
   "codemirror_mode": {
    "name": "ipython",
    "version": 3
   },
   "file_extension": ".py",
   "mimetype": "text/x-python",
   "name": "python",
   "nbconvert_exporter": "python",
   "pygments_lexer": "ipython3",
   "version": "3.10.13"
  }
 },
 "nbformat": 4,
 "nbformat_minor": 5
}
